{
 "cells": [
  {
   "cell_type": "code",
   "execution_count": 29,
   "id": "essential-observation",
   "metadata": {},
   "outputs": [],
   "source": [
    "from selenium import webdriver"
   ]
  },
  {
   "cell_type": "code",
   "execution_count": 30,
   "id": "artificial-guarantee",
   "metadata": {},
   "outputs": [],
   "source": [
    "from selenium.webdriver.common.by import By"
   ]
  },
  {
   "cell_type": "code",
   "execution_count": 32,
   "id": "humanitarian-nebraska",
   "metadata": {},
   "outputs": [],
   "source": [
    "driver = webdriver.Chrome()\n",
    "driver.get(\"https://suninjuly.github.io/file_input.html\")"
   ]
  },
  {
   "cell_type": "code",
   "execution_count": 33,
   "id": "polished-complexity",
   "metadata": {},
   "outputs": [],
   "source": [
    "import time"
   ]
  },
  {
   "cell_type": "code",
   "execution_count": 34,
   "id": "floral-sleeping",
   "metadata": {},
   "outputs": [],
   "source": [
    "LOC_FIELD = (By.CSS_SELECTOR, \"[type = 'text']\")"
   ]
  },
  {
   "cell_type": "code",
   "execution_count": 35,
   "id": "connected-airport",
   "metadata": {},
   "outputs": [],
   "source": [
    "try:\n",
    "    fields = driver.find_elements(*LOC_FIELD)\n",
    "    for field in fields:\n",
    "        field.send_keys(\"1\")\n",
    "    driver.find_element(*LOC_FILE).send_keys(r\"/home/artemkavara/webapi_test/test.txt\")\n",
    "    driver.find_element(*LOC_SUBMIT).click()\n",
    "finally:\n",
    "    time.sleep(30)\n",
    "    driver.quit()"
   ]
  }
 ],
 "metadata": {
  "kernelspec": {
   "display_name": "Python 3",
   "language": "python",
   "name": "python3"
  },
  "language_info": {
   "codemirror_mode": {
    "name": "ipython",
    "version": 3
   },
   "file_extension": ".py",
   "mimetype": "text/x-python",
   "name": "python",
   "nbconvert_exporter": "python",
   "pygments_lexer": "ipython3",
   "version": "3.9.1+"
  }
 },
 "nbformat": 4,
 "nbformat_minor": 5
}
