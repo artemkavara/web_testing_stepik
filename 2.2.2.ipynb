{
 "cells": [
  {
   "cell_type": "code",
   "execution_count": 121,
   "id": "pleasant-envelope",
   "metadata": {},
   "outputs": [],
   "source": [
    "from selenium import webdriver\n",
    "from selenium.webdriver.common.by import By\n",
    "from selenium.webdriver.common.action_chains import ActionChains\n",
    "import time\n",
    "import math"
   ]
  },
  {
   "cell_type": "code",
   "execution_count": 122,
   "id": "subject-pilot",
   "metadata": {},
   "outputs": [],
   "source": [
    "LOC_NUMBER = (By.ID, \"input_value\")\n",
    "LOC_FIELD = (By.ID, \"answer\")\n",
    "LOC_CHECKB = (By.ID, \"robotCheckbox\")\n",
    "LOC_RADIOB = (By.ID, \"robotsRule\")"
   ]
  },
  {
   "cell_type": "code",
   "execution_count": 123,
   "id": "partial-cabin",
   "metadata": {},
   "outputs": [],
   "source": [
    "driver = webdriver.Chrome()\n",
    "driver.get(\"https://SunInJuly.github.io/execute_script.html\")"
   ]
  },
  {
   "cell_type": "code",
   "execution_count": 124,
   "id": "special-domestic",
   "metadata": {},
   "outputs": [],
   "source": [
    "try:\n",
    "    x = driver.find_element(*LOC_NUMBER).text\n",
    "    inp = str(math.log(abs(12*math.sin(int(x)))))\n",
    "    driver.find_element(*LOC_FIELD).send_keys(inp)\n",
    "    driver.find_element(*LOC_CHECKB).click()\n",
    "    button1 = driver.find_element(*LOC_RADIOB)\n",
    "    _ = button1.location_once_scrolled_into_view\n",
    "    button1.click()\n",
    "    button = driver.find_element_by_css_selector(\"[type = 'submit']\")\n",
    "    _ = button.location_once_scrolled_into_view\n",
    "    button.click()\n",
    "finally:\n",
    "    time.sleep(10)\n",
    "    driver.quit()"
   ]
  },
  {
   "cell_type": "code",
   "execution_count": null,
   "id": "earlier-constraint",
   "metadata": {},
   "outputs": [],
   "source": []
  },
  {
   "cell_type": "code",
   "execution_count": null,
   "id": "inclusive-webmaster",
   "metadata": {},
   "outputs": [],
   "source": []
  }
 ],
 "metadata": {
  "kernelspec": {
   "display_name": "Python 3",
   "language": "python",
   "name": "python3"
  },
  "language_info": {
   "codemirror_mode": {
    "name": "ipython",
    "version": 3
   },
   "file_extension": ".py",
   "mimetype": "text/x-python",
   "name": "python",
   "nbconvert_exporter": "python",
   "pygments_lexer": "ipython3",
   "version": "3.9.1+"
  }
 },
 "nbformat": 4,
 "nbformat_minor": 5
}
