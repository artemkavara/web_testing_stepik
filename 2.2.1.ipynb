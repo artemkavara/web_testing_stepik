{
 "cells": [
  {
   "cell_type": "code",
   "execution_count": 5,
   "id": "pleasant-envelope",
   "metadata": {},
   "outputs": [],
   "source": [
    "from selenium import webdriver\n",
    "from selenium.webdriver.common.by import By\n",
    "from selenium.webdriver.support.ui import Select\n",
    "import time"
   ]
  },
  {
   "cell_type": "code",
   "execution_count": 6,
   "id": "hispanic-telescope",
   "metadata": {},
   "outputs": [],
   "source": [
    "LOC_FRST_NUM = (By.ID, \"num1\")\n",
    "LOC_SCND_NUM = (By.ID, \"num2\")\n",
    "LOC_SELECT = (By.ID, \"dropdown\")\n",
    "LOC_SUBMIT = (By.CSS_SELECTOR, \"[type = 'submit']\")"
   ]
  },
  {
   "cell_type": "code",
   "execution_count": 7,
   "id": "partial-cabin",
   "metadata": {},
   "outputs": [],
   "source": [
    "driver = webdriver.Chrome()\n",
    "driver.get(\"https://suninjuly.github.io/selects1.html\")"
   ]
  },
  {
   "cell_type": "code",
   "execution_count": 8,
   "id": "special-domestic",
   "metadata": {},
   "outputs": [],
   "source": [
    "try:\n",
    "    x, y = driver.find_element(*LOC_FRST_NUM).text, driver.find_element(*LOC_SCND_NUM).text\n",
    "    inp = str(int(x)+int(y))\n",
    "    select = Select(driver.find_element(*LOC_SELECT))\n",
    "    select.select_by_visible_text(inp)\n",
    "    driver.find_element(*LOC_SUBMIT).click()\n",
    "finally:\n",
    "    time.sleep(30)\n",
    "    driver.quit()"
   ]
  }
 ],
 "metadata": {
  "kernelspec": {
   "display_name": "Python 3",
   "language": "python",
   "name": "python3"
  },
  "language_info": {
   "codemirror_mode": {
    "name": "ipython",
    "version": 3
   },
   "file_extension": ".py",
   "mimetype": "text/x-python",
   "name": "python",
   "nbconvert_exporter": "python",
   "pygments_lexer": "ipython3",
   "version": "3.9.1+"
  }
 },
 "nbformat": 4,
 "nbformat_minor": 5
}
