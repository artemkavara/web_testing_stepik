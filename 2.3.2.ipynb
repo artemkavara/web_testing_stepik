{
 "cells": [
  {
   "cell_type": "code",
   "execution_count": 25,
   "id": "pleasant-envelope",
   "metadata": {},
   "outputs": [],
   "source": [
    "from selenium import webdriver\n",
    "from selenium.webdriver.common.by import By\n",
    "import time\n",
    "import math"
   ]
  },
  {
   "cell_type": "code",
   "execution_count": 26,
   "id": "hispanic-telescope",
   "metadata": {},
   "outputs": [],
   "source": [
    "LOC_NUMBER = (By.ID, \"input_value\")\n",
    "LOC_FIELD = (By.ID, \"answer\")\n",
    "LOC_CHECKB = (By.ID, \"robotCheckbox\")\n",
    "LOC_RADIOB = (By.ID, \"robotsRule\")\n",
    "LOC_SUBMIT = (By.CSS_SELECTOR, \"[type = 'submit']\")"
   ]
  },
  {
   "cell_type": "code",
   "execution_count": 27,
   "id": "partial-cabin",
   "metadata": {},
   "outputs": [],
   "source": [
    "driver = webdriver.Chrome()\n",
    "driver.get(\"http://suninjuly.github.io/alert_accept.html\")"
   ]
  },
  {
   "cell_type": "code",
   "execution_count": 28,
   "id": "special-domestic",
   "metadata": {},
   "outputs": [],
   "source": [
    "try:\n",
    "    driver.find_element(*LOC_SUBMIT).click()\n",
    "    driver.switch_to.alert.accept()\n",
    "    x = driver.find_element(*LOC_NUMBER).text\n",
    "    inp = str(math.log(abs(12*math.sin(int(x)))))\n",
    "    driver.find_element(*LOC_FIELD).send_keys(inp)\n",
    "    driver.find_element(*LOC_SUBMIT).click()\n",
    "finally:\n",
    "    time.sleep(30)\n",
    "    driver.quit()"
   ]
  }
 ],
 "metadata": {
  "kernelspec": {
   "display_name": "Python 3",
   "language": "python",
   "name": "python3"
  },
  "language_info": {
   "codemirror_mode": {
    "name": "ipython",
    "version": 3
   },
   "file_extension": ".py",
   "mimetype": "text/x-python",
   "name": "python",
   "nbconvert_exporter": "python",
   "pygments_lexer": "ipython3",
   "version": "3.9.1+"
  }
 },
 "nbformat": 4,
 "nbformat_minor": 5
}
