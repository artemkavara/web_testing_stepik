{
 "cells": [
  {
   "cell_type": "code",
   "execution_count": 5,
   "id": "pleasant-envelope",
   "metadata": {},
   "outputs": [],
   "source": [
    "from selenium import webdriver\n",
    "from selenium.webdriver.common.by import By\n",
    "import time\n",
    "import math"
   ]
  },
  {
   "cell_type": "code",
   "execution_count": 6,
   "id": "hispanic-telescope",
   "metadata": {},
   "outputs": [],
   "source": [
    "LOC_TREASURE = (By.ID, \"treasure\")\n",
    "LOC_FIELD = (By.ID, \"answer\")\n",
    "LOC_CHECKB = (By.ID, \"robotCheckbox\")\n",
    "LOC_RADIOB = (By.ID, \"robotsRule\")\n",
    "LOC_SUBMIT = (By.CSS_SELECTOR, \"[type = 'submit']\")"
   ]
  },
  {
   "cell_type": "code",
   "execution_count": 7,
   "id": "partial-cabin",
   "metadata": {},
   "outputs": [],
   "source": [
    "driver = webdriver.Chrome()\n",
    "driver.get(\"https://suninjuly.github.io/get_attribute.html\")"
   ]
  },
  {
   "cell_type": "code",
   "execution_count": 8,
   "id": "special-domestic",
   "metadata": {},
   "outputs": [],
   "source": [
    "try:\n",
    "    x = driver.find_element(*LOC_TREASURE).get_attribute(\"valuex\")\n",
    "    inp = str(math.log(abs(12*math.sin(int(x)))))\n",
    "    driver.find_element(*LOC_FIELD).send_keys(inp)\n",
    "    driver.find_element(*LOC_CHECKB).click()\n",
    "    driver.find_element(*LOC_RADIOB).click()\n",
    "    driver.find_element(*LOC_SUBMIT).click()\n",
    "finally:\n",
    "    time.sleep(30)\n",
    "    driver.quit()"
   ]
  }
 ],
 "metadata": {
  "kernelspec": {
   "display_name": "Python 3",
   "language": "python",
   "name": "python3"
  },
  "language_info": {
   "codemirror_mode": {
    "name": "ipython",
    "version": 3
   },
   "file_extension": ".py",
   "mimetype": "text/x-python",
   "name": "python",
   "nbconvert_exporter": "python",
   "pygments_lexer": "ipython3",
   "version": "3.9.1+"
  }
 },
 "nbformat": 4,
 "nbformat_minor": 5
}
