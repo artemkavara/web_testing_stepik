{
 "cells": [
  {
   "cell_type": "code",
   "execution_count": 1,
   "id": "pleasant-envelope",
   "metadata": {},
   "outputs": [],
   "source": [
    "from selenium import webdriver\n",
    "from selenium.webdriver.common.by import By\n",
    "from selenium.webdriver.support.ui import WebDriverWait\n",
    "from selenium.webdriver.support import expected_conditions as EC\n",
    "import math"
   ]
  },
  {
   "cell_type": "code",
   "execution_count": 10,
   "id": "hispanic-telescope",
   "metadata": {},
   "outputs": [],
   "source": [
    "LOC_NUMBER = (By.ID, \"input_value\")\n",
    "LOC_FIELD = (By.ID, \"answer\")\n",
    "LOC_SUBMIT = (By.CSS_SELECTOR, \"[type = 'submit']\")"
   ]
  },
  {
   "cell_type": "code",
   "execution_count": 11,
   "id": "partial-cabin",
   "metadata": {},
   "outputs": [],
   "source": [
    "driver = webdriver.Chrome()\n",
    "driver.get(\"https://suninjuly.github.io/redirect_accept.html\")"
   ]
  },
  {
   "cell_type": "code",
   "execution_count": 12,
   "id": "special-domestic",
   "metadata": {},
   "outputs": [],
   "source": [
    "try:\n",
    "    driver.find_element(*LOC_SUBMIT).click()\n",
    "    driver.switch_to.window(driver.window_handles[1])\n",
    "    x = driver.find_element(*LOC_NUMBER).text\n",
    "    inp = str(math.log(abs(12*math.sin(int(x)))))\n",
    "    driver.find_element(*LOC_FIELD).send_keys(inp)\n",
    "    driver.find_element(*LOC_SUBMIT).click()\n",
    "finally:\n",
    "    time.sleep(30)\n",
    "    driver.quit()"
   ]
  }
 ],
 "metadata": {
  "kernelspec": {
   "display_name": "Python 3",
   "language": "python",
   "name": "python3"
  },
  "language_info": {
   "codemirror_mode": {
    "name": "ipython",
    "version": 3
   },
   "file_extension": ".py",
   "mimetype": "text/x-python",
   "name": "python",
   "nbconvert_exporter": "python",
   "pygments_lexer": "ipython3",
   "version": "3.9.1+"
  }
 },
 "nbformat": 4,
 "nbformat_minor": 5
}
