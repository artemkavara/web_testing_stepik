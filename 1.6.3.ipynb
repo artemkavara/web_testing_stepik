{
 "cells": [
  {
   "cell_type": "code",
   "execution_count": 111,
   "id": "essential-observation",
   "metadata": {},
   "outputs": [],
   "source": [
    "from selenium import webdriver"
   ]
  },
  {
   "cell_type": "code",
   "execution_count": 112,
   "id": "artificial-guarantee",
   "metadata": {},
   "outputs": [],
   "source": [
    "from selenium.webdriver.common.by import By"
   ]
  },
  {
   "cell_type": "code",
   "execution_count": 113,
   "id": "manual-review",
   "metadata": {},
   "outputs": [],
   "source": [
    "LOC_FIRST_NAME = (By.CSS_SELECTOR, '[name = \"first_name\"]')\n",
    "LOC_LAST_NAME = (By.CSS_SELECTOR, '[name = \"last_name\"]')\n",
    "LOC_CITY = (By.CSS_SELECTOR, \".form-control.city\")\n",
    "LOC_COUNTRY = (By.CSS_SELECTOR, \"#country\")\n",
    "LOC_SUBMIT = (By.XPATH, \"//button[text()='Submit']\")"
   ]
  },
  {
   "cell_type": "code",
   "execution_count": 114,
   "id": "humanitarian-nebraska",
   "metadata": {},
   "outputs": [],
   "source": [
    "driver = webdriver.Chrome()\n",
    "driver.get(\"https://suninjuly.github.io/find_xpath_form\")"
   ]
  },
  {
   "cell_type": "code",
   "execution_count": 115,
   "id": "polished-complexity",
   "metadata": {},
   "outputs": [],
   "source": [
    "import time"
   ]
  },
  {
   "cell_type": "code",
   "execution_count": 116,
   "id": "floral-sleeping",
   "metadata": {},
   "outputs": [],
   "source": [
    "LOC_FIELD = (By.CSS_SELECTOR, \"[type = 'text']\")"
   ]
  },
  {
   "cell_type": "code",
   "execution_count": 117,
   "id": "connected-airport",
   "metadata": {},
   "outputs": [],
   "source": [
    "try:\n",
    "    fields = driver.find_elements(*LOC_FIELD)\n",
    "    for field in fields:\n",
    "        field.send_keys(\"1\")\n",
    "    driver.find_element(*LOC_SUBMIT).click()\n",
    "finally:\n",
    "    time.sleep(30)\n",
    "    driver.quit()"
   ]
  }
 ],
 "metadata": {
  "kernelspec": {
   "display_name": "Python 3",
   "language": "python",
   "name": "python3"
  },
  "language_info": {
   "codemirror_mode": {
    "name": "ipython",
    "version": 3
   },
   "file_extension": ".py",
   "mimetype": "text/x-python",
   "name": "python",
   "nbconvert_exporter": "python",
   "pygments_lexer": "ipython3",
   "version": "3.9.1+"
  }
 },
 "nbformat": 4,
 "nbformat_minor": 5
}
